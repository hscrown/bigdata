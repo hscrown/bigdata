{
  "nbformat": 4,
  "nbformat_minor": 0,
  "metadata": {
    "colab": {
      "provenance": [],
      "authorship_tag": "ABX9TyN6gWdel7WVYk8CS3HEc1iT",
      "include_colab_link": true
    },
    "kernelspec": {
      "name": "python3",
      "display_name": "Python 3"
    },
    "language_info": {
      "name": "python"
    }
  },
  "cells": [
    {
      "cell_type": "markdown",
      "metadata": {
        "id": "view-in-github",
        "colab_type": "text"
      },
      "source": [
        "<a href=\"https://colab.research.google.com/github/hscrown/bigdata/blob/main/%EA%B8%B0%EC%B6%9C%EB%AC%B8%EC%A0%9C5.ipynb\" target=\"_parent\"><img src=\"https://colab.research.google.com/assets/colab-badge.svg\" alt=\"Open In Colab\"/></a>"
      ]
    },
    {
      "cell_type": "markdown",
      "source": [
        "1유형"
      ],
      "metadata": {
        "id": "fDw2tTDEo2JC"
      }
    },
    {
      "cell_type": "code",
      "execution_count": 1,
      "metadata": {
        "colab": {
          "base_uri": "https://localhost:8080/"
        },
        "id": "pprfBjDno0j9",
        "outputId": "90c8f2aa-8439-4ece-c73e-2873eb853d07"
      },
      "outputs": [
        {
          "output_type": "stream",
          "name": "stdout",
          "text": [
            "['생활쓰레기' '음식물쓰레기']\n",
            "['기타' '가정용' '사업장용' '영업용' '영업장용' '범용']\n",
            "119\n"
          ]
        }
      ],
      "source": [
        "# 패키지 임포트\n",
        "import numpy as np\n",
        "import pandas as pd\n",
        "import matplotlib.pyplot as plt\n",
        "\n",
        "# 데이터 불러오기\n",
        "df=pd.read_csv('https://raw.githubusercontent.com/YoungjinBD/dataset/main/trash_bag.csv',encoding='cp949')\n",
        "df\n",
        "\n",
        "# 용도, 사용대상 항목 추출\n",
        "print(df['용도'].unique())\n",
        "print(df['사용대상'].unique())\n",
        "\n",
        "# 음식물쓰레기와 가정용인 행만 남기기\n",
        "df_home_trash=df[(df['용도']=='음식물쓰레기')&(df['사용대상']=='가정용')]\n",
        "df_home_trash\n",
        "\n",
        "# 2L 봉투를 사용하는 행만 남기기\n",
        "result_df=df_home_trash[df_home_trash['2L가격']!=0]\n",
        "result_df.head()\n",
        "\n",
        "# 평균 구하기\n",
        "result=int(result_df['2L가격'].mean())\n",
        "print(result)"
      ]
    },
    {
      "cell_type": "code",
      "source": [
        "# 패키지 임포트\n",
        "import numpy as np\n",
        "import pandas as pd\n",
        "import matplotlib.pyplot as plt\n",
        "\n",
        "# 데이터 불러오기\n",
        "df=pd.read_csv('https://raw.githubusercontent.com/YoungjinBD/dataset/main/BMI.csv')\n",
        "df\n",
        "\n",
        "# Height_m과 BMI 항목 추가\n",
        "df[\"Height_m\"]=df[\"Height\"]/100\n",
        "df[\"BMI\"]=df[\"Weight\"]/df[\"Height_m\"]**2\n",
        "df\n",
        "\n",
        "# BMI 가 normal과 overweight인 구간의 인원 추출\n",
        "normal=len(df[(df[\"BMI\"]>=18.5)&(df[\"BMI\"]<23)])\n",
        "overweight=len(df[(df[\"BMI\"]>=23)&(df[\"BMI\"]<25)])\n",
        "print(normal)\n",
        "print(overweight)\n",
        "\n",
        "# 인원 차이 구하기\n",
        "result=abs(normal-overweight)\n",
        "print(result)"
      ],
      "metadata": {
        "colab": {
          "base_uri": "https://localhost:8080/"
        },
        "id": "_WHsf3TXpBSH",
        "outputId": "b9653f2f-deea-4e23-b2a0-480f56bd3d1b"
      },
      "execution_count": 2,
      "outputs": [
        {
          "output_type": "stream",
          "name": "stdout",
          "text": [
            "47\n",
            "19\n",
            "28\n"
          ]
        }
      ]
    },
    {
      "cell_type": "code",
      "source": [
        "# 패키지 임포트\n",
        "import numpy as np\n",
        "import pandas as pd\n",
        "import matplotlib.pyplot as plt\n",
        "\n",
        "# 데이터 불러오기\n",
        "df=pd.read_csv('https://raw.githubusercontent.com/YoungjinBD/dataset/main/students.csv',encoding='cp949')\n",
        "df\n",
        "\n",
        "# 순 전입학생 수 항목 추가\n",
        "df['순 전입학생 수']=df['총 전입학생']-df['총 전출학생']\n",
        "df.head()\n",
        "\n",
        "# 학교별로 분류하기\n",
        "result_df=df.groupby(['학교'])[['순 전입학생 수','전체학생 수']].sum()\n",
        "print(result_df)\n",
        "\n",
        "# 순 전입학생 수가 가장 많은 학교의 전체학생 수 구하기\n",
        "result=result_df.loc[result_df['순 전입학생 수']==result_df['순 전입학생 수'].max(),'전체학생 수'].values[0]\n",
        "print(result)"
      ],
      "metadata": {
        "colab": {
          "base_uri": "https://localhost:8080/"
        },
        "id": "GqQPgD3ApFGK",
        "outputId": "ed6eabc0-50d8-45ea-81d5-4d8ede7e2804"
      },
      "execution_count": 3,
      "outputs": [
        {
          "output_type": "stream",
          "name": "stdout",
          "text": [
            "    순 전입학생 수  전체학생 수\n",
            "학교                  \n",
            "A         18     566\n",
            "B         13     588\n",
            "C         -9     528\n",
            "D          7     548\n",
            "E         14     603\n",
            "F          1     481\n",
            "G         10     618\n",
            "H         -1     602\n",
            "566\n"
          ]
        }
      ]
    },
    {
      "cell_type": "markdown",
      "source": [
        "2유형"
      ],
      "metadata": {
        "id": "KkRNPFNXo7D3"
      }
    },
    {
      "cell_type": "code",
      "source": [
        "# 패키지 임포트\n",
        "import pandas as pd\n",
        "\n",
        "# 데이터 불러오기\n",
        "X_test=pd.read_csv('https://raw.githubusercontent.com/YoungjinBD/dataset/main/used_car_X_test.csv')\n",
        "X_train=pd.read_csv('https://raw.githubusercontent.com/YoungjinBD/dataset/main/used_car_X_train.csv')\n",
        "y_train=pd.read_csv('https://raw.githubusercontent.com/YoungjinBD/dataset/main/used_car_y_train.csv')\n",
        "X_train\n",
        "\n",
        "# 결측 여부 확인\n",
        "print(f' X_train:{X_train.isnull().sum().sum()}')\n",
        "print(f' y_train:{y_train.isnull().sum().sum()}')\n",
        "print(f' X_test:{X_test.isnull().sum().sum()}')\n",
        "\n",
        "# 범주형 데이터와 수치형 데이터로 나누기\n",
        "X_train_word=X_train[['model','transmission','fuelType']]\n",
        "X_test_word=X_test[['model','transmission','fuelType']]\n",
        "print(X_train_word)\n",
        "X_train_num=X_train.drop(columns=['id','model','transmission','fuelType'])\n",
        "X_test_num=X_test.drop(columns=['id','model','transmission','fuelType'])\n",
        "print(X_train_num)\n",
        "\n",
        "# 데이터 스케일링 임포트\n",
        "from sklearn.preprocessing import MinMaxScaler\n",
        "\n",
        "# MinMax 스케일러 생성\n",
        "scaler=MinMaxScaler()\n",
        "\n",
        "# 해당 특성에 MinMax 스케일러를 적용하고 데이터 변환\n",
        "X_train_num_scale=scaler.fit_transform(X_train_num)\n",
        "X_test_num_scale=scaler.fit_transform(X_test_num)\n",
        "\n",
        "# 데이터 프레임 정의\n",
        "df_train_num_scale=pd.DataFrame(X_train_num_scale,columns=X_train_num.columns)\n",
        "df_test_num_scale=pd.DataFrame(X_test_num_scale,columns=X_test_num.columns)\n",
        "\n",
        "# 인코딩 시행\n",
        "df_train_word=pd.get_dummies(X_train_word)\n",
        "df_test_word=pd.get_dummies(X_test_word)\n",
        "\n",
        "# 데이터프레임 컬럼 목록 설정\n",
        "train_columns=set(df_train_word.columns)\n",
        "test_columns=set(df_test_word.columns)\n",
        "\n",
        "# 한쪽에만 있는 컬럼 출력\n",
        "missing_in_test=train_columns-test_columns\n",
        "missing_in_train=test_columns-train_columns\n",
        "print(\"컬럼 목록 중 테스트 데이터에 없는 컬럼:\",missing_in_test)\n",
        "print(\"컬럼 목록 중 훈련 데이터에 없는 컬럼:\",missing_in_train)\n",
        "\n",
        "# 없는 컬럼을 0으로 채워줌\n",
        "df_test_word['model_RS7']=0\n",
        "df_test_word['model_S8']=0\n",
        "df_test_word['model_A2']=0\n",
        "df_test_word['model_S5']=0\n",
        "\n",
        "# 두 데이터를 결합\n",
        "df_train=pd.concat([df_train_num_scale,df_train_word],axis=1)\n",
        "df_test=pd.concat([df_test_num_scale,df_test_word],axis=1)\n",
        "print(df_train)\n",
        "\n",
        "# 모델 학습 임포트\n",
        "from pandas.core.common import random_state\n",
        "import xgboost as xgb\n",
        "from sklearn.model_selection import train_test_split\n",
        "from sklearn.metrics import mean_squared_error\n",
        "import numpy as np\n",
        "\n",
        "# 모델 생성\n",
        "model=xgb.XGBRegressor(random_state=77)\n",
        "\n",
        "# train, validation 데이터 설정\n",
        "X_train,X_val,y_train_t,y_val=train_test_split(df_train.values,y_train['price'].values,test_size=0.3)\n",
        "\n",
        "# 모델 학습\n",
        "model.fit(X_train,y_train_t)\n",
        "\n",
        "# validation으로 성능 평가\n",
        "y_pred=model.predict(X_val)\n",
        "np.sqrt(mean_squared_error(y_val,y_pred))\n",
        "\n",
        "# price 예측\n",
        "y_pred=model.predict(df_test)\n",
        "df=pd.DataFrame(X_test['id'])\n",
        "df['price']=y_pred\n",
        "print(df.head())\n",
        "\n",
        "# 출력 형식 정하기\n",
        "df.to_csv('result.csv',index=False)"
      ],
      "metadata": {
        "colab": {
          "base_uri": "https://localhost:8080/"
        },
        "id": "GOxmuFEHo8O5",
        "outputId": "6e94ea75-9d35-4964-afcc-d124ec232164"
      },
      "execution_count": 4,
      "outputs": [
        {
          "output_type": "stream",
          "name": "stdout",
          "text": [
            " X_train:0\n",
            " y_train:0\n",
            " X_test:0\n",
            "     model transmission fuelType\n",
            "0       A1    Automatic   Petrol\n",
            "1      RS4    Semi-Auto   Petrol\n",
            "2       A8    Semi-Auto   Diesel\n",
            "3       Q5    Semi-Auto   Diesel\n",
            "4       A5    Semi-Auto   Diesel\n",
            "...    ...          ...      ...\n",
            "7463    A3       Manual   Petrol\n",
            "7464    Q2       Manual   Diesel\n",
            "7465    A1    Semi-Auto   Petrol\n",
            "7466    Q3       Manual   Diesel\n",
            "7467    Q7    Automatic   Diesel\n",
            "\n",
            "[7468 rows x 3 columns]\n",
            "      year  mileage  tax   mpg  engineSize\n",
            "0     2019     3500  145  40.9         2.0\n",
            "1     2020     2500  145  28.8         2.9\n",
            "2     2019      500  145  40.4         3.0\n",
            "3     2019     5089  150  38.2         2.0\n",
            "4     2020     4951  145  51.4         2.0\n",
            "...    ...      ...  ...   ...         ...\n",
            "7463  2016    22633   30  58.9         1.4\n",
            "7464  2017    13272  145  64.2         1.6\n",
            "7465  2019     5000  145  40.9         2.0\n",
            "7466  2019       10  145  42.8         2.0\n",
            "7467  2012    91229  300  39.2         3.0\n",
            "\n",
            "[7468 rows x 5 columns]\n",
            "컬럼 목록 중 테스트 데이터에 없는 컬럼: {'model_ RS7', 'model_ A2', 'model_ S8', 'model_ S5'}\n",
            "컬럼 목록 중 훈련 데이터에 없는 컬럼: set()\n",
            "          year   mileage       tax       mpg  engineSize  model_ A1  \\\n",
            "0     0.954545  0.020825  0.250000  0.127811    0.317460       True   \n",
            "1     1.000000  0.014874  0.250000  0.056213    0.460317      False   \n",
            "2     0.954545  0.002970  0.250000  0.124852    0.476190      False   \n",
            "3     0.954545  0.030283  0.258621  0.111834    0.317460      False   \n",
            "4     1.000000  0.029461  0.250000  0.189941    0.317460      False   \n",
            "...        ...       ...       ...       ...         ...        ...   \n",
            "7463  0.818182  0.134701  0.051724  0.234320    0.222222      False   \n",
            "7464  0.863636  0.078987  0.250000  0.265680    0.253968      False   \n",
            "7465  0.954545  0.029753  0.250000  0.127811    0.317460       True   \n",
            "7466  0.954545  0.000054  0.250000  0.139053    0.317460      False   \n",
            "7467  0.636364  0.542972  0.517241  0.117751    0.476190      False   \n",
            "\n",
            "      model_ A2  model_ A3  model_ A4  model_ A5  ...  model_ S8  model_ SQ5  \\\n",
            "0         False      False      False      False  ...      False       False   \n",
            "1         False      False      False      False  ...      False       False   \n",
            "2         False      False      False      False  ...      False       False   \n",
            "3         False      False      False      False  ...      False       False   \n",
            "4         False      False      False       True  ...      False       False   \n",
            "...         ...        ...        ...        ...  ...        ...         ...   \n",
            "7463      False       True      False      False  ...      False       False   \n",
            "7464      False      False      False      False  ...      False       False   \n",
            "7465      False      False      False      False  ...      False       False   \n",
            "7466      False      False      False      False  ...      False       False   \n",
            "7467      False      False      False      False  ...      False       False   \n",
            "\n",
            "      model_ SQ7  model_ TT  transmission_Automatic  transmission_Manual  \\\n",
            "0          False      False                    True                False   \n",
            "1          False      False                   False                False   \n",
            "2          False      False                   False                False   \n",
            "3          False      False                   False                False   \n",
            "4          False      False                   False                False   \n",
            "...          ...        ...                     ...                  ...   \n",
            "7463       False      False                   False                 True   \n",
            "7464       False      False                   False                 True   \n",
            "7465       False      False                   False                False   \n",
            "7466       False      False                   False                 True   \n",
            "7467       False      False                    True                False   \n",
            "\n",
            "      transmission_Semi-Auto  fuelType_Diesel  fuelType_Hybrid  \\\n",
            "0                      False            False            False   \n",
            "1                       True            False            False   \n",
            "2                       True             True            False   \n",
            "3                       True             True            False   \n",
            "4                       True             True            False   \n",
            "...                      ...              ...              ...   \n",
            "7463                   False            False            False   \n",
            "7464                   False             True            False   \n",
            "7465                    True            False            False   \n",
            "7466                   False             True            False   \n",
            "7467                   False             True            False   \n",
            "\n",
            "      fuelType_Petrol  \n",
            "0                True  \n",
            "1                True  \n",
            "2               False  \n",
            "3               False  \n",
            "4               False  \n",
            "...               ...  \n",
            "7463             True  \n",
            "7464            False  \n",
            "7465             True  \n",
            "7466            False  \n",
            "7467            False  \n",
            "\n",
            "[7468 rows x 37 columns]\n",
            "     id         price\n",
            "0  7469  33199.242188\n",
            "1  7470  20444.576172\n",
            "2  7471  30622.154297\n",
            "3  7472  19079.466797\n",
            "4  7473  18497.787109\n"
          ]
        }
      ]
    },
    {
      "cell_type": "markdown",
      "source": [
        "3유형"
      ],
      "metadata": {
        "id": "ARTaru9ho8hk"
      }
    }
  ]
}