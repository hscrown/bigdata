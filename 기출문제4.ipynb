{
  "nbformat": 4,
  "nbformat_minor": 0,
  "metadata": {
    "colab": {
      "provenance": [],
      "authorship_tag": "ABX9TyPm9fzQvS7dpPe2Bu5NMELR",
      "include_colab_link": true
    },
    "kernelspec": {
      "name": "python3",
      "display_name": "Python 3"
    },
    "language_info": {
      "name": "python"
    }
  },
  "cells": [
    {
      "cell_type": "markdown",
      "metadata": {
        "id": "view-in-github",
        "colab_type": "text"
      },
      "source": [
        "<a href=\"https://colab.research.google.com/github/hscrown/bigdata/blob/main/%EA%B8%B0%EC%B6%9C%EB%AC%B8%EC%A0%9C4.ipynb\" target=\"_parent\"><img src=\"https://colab.research.google.com/assets/colab-badge.svg\" alt=\"Open In Colab\"/></a>"
      ]
    },
    {
      "cell_type": "markdown",
      "source": [
        "1유형"
      ],
      "metadata": {
        "id": "oJJmXMM7pezD"
      }
    },
    {
      "cell_type": "code",
      "execution_count": 1,
      "metadata": {
        "colab": {
          "base_uri": "https://localhost:8080/"
        },
        "id": "mDzHj0zOpcSJ",
        "outputId": "2dcc44e0-bcc0-44b3-e178-a2938ef29456"
      },
      "outputs": [
        {
          "output_type": "stream",
          "name": "stdout",
          "text": [
            "12.55\n",
            "31.5\n",
            "18\n"
          ]
        }
      ],
      "source": [
        "# 패키지 임포트\n",
        "import numpy as np\n",
        "import pandas as pd\n",
        "import matplotlib.pyplot as plt\n",
        "\n",
        "# 리스트 정의\n",
        "list=[10,11,11.2,13,15.5,18,19.8,20,31,33,39.5,42]\n",
        "\n",
        "# 제1, 제3사분위수 출력\n",
        "q1=np.percentile(list,25)\n",
        "q3=np.percentile(list,75)\n",
        "print(q1)\n",
        "print(q3)\n",
        "\n",
        "# 이 사이의 절댓값 구하기\n",
        "iqr=q3-q1\n",
        "result=int(iqr)\n",
        "print(result)"
      ]
    },
    {
      "cell_type": "code",
      "source": [
        "# 패키지 임포트\n",
        "import numpy as np\n",
        "import pandas as pd\n",
        "import matplotlib.pyplot as plt\n",
        "\n",
        "# 데이터 불러오기\n",
        "df=pd.read_csv('https://raw.githubusercontent.com/YoungjinBD/dataset/main/facebook.csv')\n",
        "print(df.head())\n",
        "\n",
        "# positive 열 정의\n",
        "df['positive']=(df['num_loves']+df['num_wows'])/df['num_reactions']\n",
        "df['positive'].describe()\n",
        "\n",
        "# 문제에서 요구한 조건 입력 및 출력\n",
        "result_df=df[(df['positive']>0.4)&(df['positive']<0.5)&(df['status_type']=='video')]\n",
        "result=len(result_df)\n",
        "result"
      ],
      "metadata": {
        "colab": {
          "base_uri": "https://localhost:8080/"
        },
        "id": "uDLLCn0gplXy",
        "outputId": "186cbce0-96bd-4a2b-f157-4359e2cb2bb4"
      },
      "execution_count": 2,
      "outputs": [
        {
          "output_type": "stream",
          "name": "stdout",
          "text": [
            "                          status_id status_type  num_reactions  num_comments  \\\n",
            "0  246675545449582_1649696485147474       video            529           512   \n",
            "1  246675545449582_1649426988507757       photo            150             0   \n",
            "2  246675545449582_1648730588577397       video            227           236   \n",
            "3  246675545449582_1648576705259452       photo            111             0   \n",
            "4  246675545449582_1645700502213739       photo            213             0   \n",
            "\n",
            "   num_shares  num_likes  num_loves  num_wows  num_hahas  num_sads  num_angrys  \n",
            "0         262        432         92         3          1         1           0  \n",
            "1           0        150          0         0          0         0           0  \n",
            "2          57        204         21         1          1         0           0  \n",
            "3           0        111          0         0          0         0           0  \n",
            "4           0        204          9         0          0         0           0  \n"
          ]
        },
        {
          "output_type": "execute_result",
          "data": {
            "text/plain": [
              "90"
            ]
          },
          "metadata": {},
          "execution_count": 2
        }
      ]
    },
    {
      "cell_type": "code",
      "source": [
        "# 패키지 임포트\n",
        "import numpy as np\n",
        "import pandas as pd\n",
        "import matplotlib.pyplot as plt\n",
        "\n",
        "# 데이터 불러오기\n",
        "df=pd.read_csv('https://raw.githubusercontent.com/YoungjinBD/dataset/main/netflix.csv')\n",
        "print(df.head())\n",
        "\n",
        "# 특정 항목 따로 출력\n",
        "print(df['date_added'])\n",
        "\n",
        "# 특정 조건을 만족하는 항목만 남기기\n",
        "result_df=df[df['date_added'].str.contains('January')&df['date_added'].str.contains('2018')]\n",
        "print(result_df.head())\n",
        "\n",
        "# 특정 조건을 만족하는 항목만 남기기\n",
        "result_df_UK=result_df[result_df['country']=='United Kingdom']\n",
        "print(len(result_df_UK))"
      ],
      "metadata": {
        "colab": {
          "base_uri": "https://localhost:8080/"
        },
        "id": "uecYzP3fprzp",
        "outputId": "bc387bdd-0b0c-4017-ade0-e8ebc17834e9"
      },
      "execution_count": 3,
      "outputs": [
        {
          "output_type": "stream",
          "name": "stdout",
          "text": [
            "  show_id     type                  title         director  \\\n",
            "0      s1    Movie   Dick Johnson Is Dead  Kirsten Johnson   \n",
            "1      s2  TV Show          Blood & Water              NaN   \n",
            "2      s3  TV Show              Ganglands  Julien Leclercq   \n",
            "3      s4  TV Show  Jailbirds New Orleans              NaN   \n",
            "4      s5  TV Show           Kota Factory              NaN   \n",
            "\n",
            "                                                cast        country  \\\n",
            "0                                                NaN  United States   \n",
            "1  Ama Qamata, Khosi Ngema, Gail Mabalane, Thaban...   South Africa   \n",
            "2  Sami Bouajila, Tracy Gotoas, Samuel Jouy, Nabi...            NaN   \n",
            "3                                                NaN            NaN   \n",
            "4  Mayur More, Jitendra Kumar, Ranjan Raj, Alam K...          India   \n",
            "\n",
            "           date_added  release_year rating   duration  \\\n",
            "0  September 25, 2021          2020  PG-13     90 min   \n",
            "1  September 24, 2021          2021  TV-MA  2 Seasons   \n",
            "2  September 24, 2021          2021  TV-MA   1 Season   \n",
            "3  September 24, 2021          2021  TV-MA   1 Season   \n",
            "4  September 24, 2021          2021  TV-MA  2 Seasons   \n",
            "\n",
            "                                           listed_in  \\\n",
            "0                                      Documentaries   \n",
            "1    International TV Shows, TV Dramas, TV Mysteries   \n",
            "2  Crime TV Shows, International TV Shows, TV Act...   \n",
            "3                             Docuseries, Reality TV   \n",
            "4  International TV Shows, Romantic TV Shows, TV ...   \n",
            "\n",
            "                                         description  \n",
            "0  As her father nears the end of his life, filmm...  \n",
            "1  After crossing paths at a party, a Cape Town t...  \n",
            "2  To protect his family from a powerful drug lor...  \n",
            "3  Feuds, flirtations and toilet talk go down amo...  \n",
            "4  In a city of coaching centers known to train I...  \n",
            "0       September 25, 2021\n",
            "1       September 24, 2021\n",
            "2       September 24, 2021\n",
            "3       September 24, 2021\n",
            "4       September 24, 2021\n",
            "               ...        \n",
            "8802     November 20, 2019\n",
            "8803          July 1, 2019\n",
            "8804      November 1, 2019\n",
            "8805      January 11, 2020\n",
            "8806         March 2, 2019\n",
            "Name: date_added, Length: 8807, dtype: object\n",
            "     show_id     type                                              title  \\\n",
            "5055   s5056    Movie                               Expedition Happiness   \n",
            "5056   s5057    Movie  Jerry Seinfeld: I'm Telling You for the Last Time   \n",
            "5057   s5058  TV Show                                        Retribution   \n",
            "5058   s5059    Movie                                         Holy Camp!   \n",
            "5059   s5060    Movie                        A Futile and Stupid Gesture   \n",
            "\n",
            "                           director  \\\n",
            "5055                   Selima Taibi   \n",
            "5056                  Marty Callner   \n",
            "5057                            NaN   \n",
            "5058  Javier Ambrossi, Javier Calvo   \n",
            "5059                     David Wain   \n",
            "\n",
            "                                                   cast         country  \\\n",
            "5055                         Selima Taibi, Felix Starck         Germany   \n",
            "5056                                     Jerry Seinfeld   United States   \n",
            "5057  Georgina Campbell, Joe Dempsie, Adrian Edmonds...  United Kingdom   \n",
            "5058  Macarena García, Anna Castillo, Belén Cuesta, ...           Spain   \n",
            "5059  Will Forte, Domhnall Gleeson, Martin Mull, Joe...   United States   \n",
            "\n",
            "            date_added  release_year rating  duration  \\\n",
            "5055  January 31, 2018          2017  TV-PG    96 min   \n",
            "5056  January 30, 2018          1998  TV-14    69 min   \n",
            "5057  January 30, 2018          2016  TV-MA  1 Season   \n",
            "5058  January 29, 2018          2017  TV-MA   108 min   \n",
            "5059  January 26, 2018          2018  TV-MA   102 min   \n",
            "\n",
            "                                              listed_in  \\\n",
            "5055                Documentaries, International Movies   \n",
            "5056                                    Stand-Up Comedy   \n",
            "5057  British TV Shows, Crime TV Shows, Internationa...   \n",
            "5058             Comedies, Dramas, Faith & Spirituality   \n",
            "5059                                           Comedies   \n",
            "\n",
            "                                            description  \n",
            "5055  A filmmaker and his musician girlfriend attemp...  \n",
            "5056  Months after his classic TV sitcom ends, the l...  \n",
            "5057  A dark web of secrets and lies emerges when a ...  \n",
            "5058  In this musical comedy, two rebellious teen gi...  \n",
            "5059  In a brief life full of triumph and failure, \"...  \n",
            "6\n"
          ]
        }
      ]
    },
    {
      "cell_type": "markdown",
      "source": [
        "2유형"
      ],
      "metadata": {
        "id": "-T611RYQpgYL"
      }
    },
    {
      "cell_type": "code",
      "source": [
        "# 패키지 임포트\n",
        "import numpy as np\n",
        "import pandas as pd\n",
        "import matplotlib.pyplot as plt\n",
        "\n",
        "# 데이터 불러오기\n",
        "X_test=pd.read_csv('https://raw.githubusercontent.com/YoungjinBD/dataset/main/CS_Seg_X_test.csv')\n",
        "X_train=pd.read_csv('https://raw.githubusercontent.com/YoungjinBD/dataset/main/CS_Seg_X_train.csv')\n",
        "y_train=pd.read_csv('https://raw.githubusercontent.com/YoungjinBD/dataset/main/CS_Seg_y_train.csv')\n",
        "X_train\n",
        "\n",
        "# 결측 여부 확인\n",
        "print(f' X_train:{X_train.isnull().sum().sum()}')\n",
        "print(f' y_train:{y_train.isnull().sum().sum()}')\n",
        "print(f' X_test:{X_test.isnull().sum().sum()}')\n",
        "\n",
        "# 데이터 나누기\n",
        "X_train_word=X_train[['Gender','Ever_Married','Graduated','Profession','Spending_Score']]\n",
        "X_test_word=X_test[['Gender','Ever_Married','Graduated','Profession','Spending_Score']]\n",
        "print(X_train_word)\n",
        "X_train_num=X_train.drop(columns=['ID','Gender','Ever_Married','Graduated','Profession','Spending_Score'])\n",
        "X_test_num=X_test.drop(columns=['ID','Gender','Ever_Married','Graduated','Profession','Spending_Score'])\n",
        "print(X_train_num)\n",
        "\n",
        "# 데이터 스케일링 임포트\n",
        "from sklearn.preprocessing import MinMaxScaler\n",
        "\n",
        "# MinMax 스케일러 생성\n",
        "scaler=MinMaxScaler()\n",
        "\n",
        "# 해당 특성에 MinMax 스케일러를 적용하고 데이터 변환\n",
        "X_train_num=scaler.fit_transform(X_train_num)\n",
        "X_test_num=scaler.transform(X_test_num)\n",
        "\n",
        "# 데이터 프레임 정의\n",
        "columns = X_train[['Age', 'Work_Experience', 'Family_Size']].columns\n",
        "df_train_num=pd.DataFrame(X_train_num,columns=columns)\n",
        "df_test_num=pd.DataFrame(X_test_num,columns=columns)\n",
        "\n",
        "# 인코딩 시행\n",
        "df_train_word=pd.get_dummies(X_train_word)\n",
        "df_test_word=pd.get_dummies(X_test_word)\n",
        "\n",
        "# 데이터 결합\n",
        "df_train=pd.concat([df_train_num,df_train_word],axis=1)\n",
        "df_test=pd.concat([df_test_num,df_test_word],axis=1)\n",
        "df_train\n",
        "\n",
        "# 모델 학습 임포트\n",
        "from pandas.core.common import random_state\n",
        "import xgboost as xgb\n",
        "from sklearn.model_selection import train_test_split\n",
        "from sklearn.metrics import classification_report\n",
        "\n",
        "\n",
        "# 값 변경\n",
        "y_train[y_train['Segmentation']=='A']=0\n",
        "y_train[y_train['Segmentation']=='B']=1\n",
        "y_train[y_train['Segmentation']=='C']=2\n",
        "y_train[y_train['Segmentation']=='D']=3\n",
        "\n",
        "# 모델 생성\n",
        "model=xgb.XGBClassifier(random_state=77)\n",
        "\n",
        "# train, validation 데이터 설정\n",
        "X_train,X_val,y_train,y_val=train_test_split(df_train.values,y_train['Segmentation'].values,test_size=0.3)\n",
        "\n",
        "# 모델 학습\n",
        "model.fit(X_train,y_train)\n",
        "\n",
        "# 성능 평가\n",
        "y_pred=model.predict(X_val)\n",
        "print(classification_report(y_val.astype(int),y_pred))\n",
        "\n",
        "# 예측\n",
        "y_pred=model.predict(df_test)\n",
        "df = pd.DataFrame(y_train['ID'],columns=['ID'])\n",
        "df['Segmentation']=y_pred\n",
        "\n",
        "# 데이터 수정 후 출력\n",
        "df['Segmentation'][df['Segmentation']==0]='A'\n",
        "df['Segmentation'][df['Segmentation']==1]='B'\n",
        "df['Segmentation'][df['Segmentation']==2]='C'\n",
        "df['Segmentation'][df['Segmentation']==3]='D'\n",
        "print(df.head())\n",
        "\n",
        "# 데이터 출력 형식 장기\n",
        "df.to_csv('result.csv',index=False)"
      ],
      "metadata": {
        "colab": {
          "base_uri": "https://localhost:8080/",
          "height": 939
        },
        "id": "R8avfeasppb0",
        "outputId": "9cf8b16b-9963-4d40-ace4-c892f7846c00"
      },
      "execution_count": 4,
      "outputs": [
        {
          "output_type": "stream",
          "name": "stdout",
          "text": [
            " X_train:0\n",
            " y_train:0\n",
            " X_test:0\n",
            "      Gender Ever_Married Graduated  Profession Spending_Score\n",
            "0       Male           No        No  Healthcare            Low\n",
            "1     Female          Yes       Yes    Engineer            Low\n",
            "2       Male          Yes       Yes      Lawyer           High\n",
            "3       Male          Yes        No      Artist        Average\n",
            "4       Male           No       Yes  Healthcare            Low\n",
            "...      ...          ...       ...         ...            ...\n",
            "6713    Male          Yes       Yes      Artist           High\n",
            "6714    Male           No        No   Executive            Low\n",
            "6715  Female           No       Yes  Healthcare            Low\n",
            "6716  Female           No       Yes  Healthcare            Low\n",
            "6717    Male          Yes       Yes   Executive        Average\n",
            "\n",
            "[6718 rows x 5 columns]\n",
            "      Age  Work_Experience  Family_Size\n",
            "0      22              1.0          4.0\n",
            "1      67              1.0          1.0\n",
            "2      67              0.0          2.0\n",
            "3      56              0.0          2.0\n",
            "4      32              1.0          3.0\n",
            "...   ...              ...          ...\n",
            "6713   41              0.0          5.0\n",
            "6714   35              3.0          4.0\n",
            "6715   33              1.0          1.0\n",
            "6716   27              1.0          4.0\n",
            "6717   37              0.0          3.0\n",
            "\n",
            "[6718 rows x 3 columns]\n",
            "              precision    recall  f1-score   support\n",
            "\n",
            "           0       0.44      0.44      0.44       483\n",
            "           1       0.40      0.35      0.37       464\n",
            "           2       0.57      0.58      0.57       540\n",
            "           3       0.63      0.67      0.65       529\n",
            "\n",
            "    accuracy                           0.52      2016\n",
            "   macro avg       0.51      0.51      0.51      2016\n",
            "weighted avg       0.51      0.52      0.51      2016\n",
            "\n"
          ]
        },
        {
          "output_type": "error",
          "ename": "IndexError",
          "evalue": "only integers, slices (`:`), ellipsis (`...`), numpy.newaxis (`None`) and integer or boolean arrays are valid indices",
          "traceback": [
            "\u001b[0;31m---------------------------------------------------------------------------\u001b[0m",
            "\u001b[0;31mIndexError\u001b[0m                                Traceback (most recent call last)",
            "\u001b[0;32m<ipython-input-4-9e27d8b3f44a>\u001b[0m in \u001b[0;36m<cell line: 77>\u001b[0;34m()\u001b[0m\n\u001b[1;32m     75\u001b[0m \u001b[0;31m# 예측\u001b[0m\u001b[0;34m\u001b[0m\u001b[0;34m\u001b[0m\u001b[0m\n\u001b[1;32m     76\u001b[0m \u001b[0my_pred\u001b[0m\u001b[0;34m=\u001b[0m\u001b[0mmodel\u001b[0m\u001b[0;34m.\u001b[0m\u001b[0mpredict\u001b[0m\u001b[0;34m(\u001b[0m\u001b[0mdf_test\u001b[0m\u001b[0;34m)\u001b[0m\u001b[0;34m\u001b[0m\u001b[0;34m\u001b[0m\u001b[0m\n\u001b[0;32m---> 77\u001b[0;31m \u001b[0mdf\u001b[0m \u001b[0;34m=\u001b[0m \u001b[0mpd\u001b[0m\u001b[0;34m.\u001b[0m\u001b[0mDataFrame\u001b[0m\u001b[0;34m(\u001b[0m\u001b[0my_train\u001b[0m\u001b[0;34m[\u001b[0m\u001b[0;34m'ID'\u001b[0m\u001b[0;34m]\u001b[0m\u001b[0;34m,\u001b[0m\u001b[0mcolumns\u001b[0m\u001b[0;34m=\u001b[0m\u001b[0;34m[\u001b[0m\u001b[0;34m'ID'\u001b[0m\u001b[0;34m]\u001b[0m\u001b[0;34m)\u001b[0m\u001b[0;34m\u001b[0m\u001b[0;34m\u001b[0m\u001b[0m\n\u001b[0m\u001b[1;32m     78\u001b[0m \u001b[0mdf\u001b[0m\u001b[0;34m[\u001b[0m\u001b[0;34m'Segmentation'\u001b[0m\u001b[0;34m]\u001b[0m\u001b[0;34m=\u001b[0m\u001b[0my_pred\u001b[0m\u001b[0;34m\u001b[0m\u001b[0;34m\u001b[0m\u001b[0m\n\u001b[1;32m     79\u001b[0m \u001b[0;34m\u001b[0m\u001b[0m\n",
            "\u001b[0;31mIndexError\u001b[0m: only integers, slices (`:`), ellipsis (`...`), numpy.newaxis (`None`) and integer or boolean arrays are valid indices"
          ]
        }
      ]
    }
  ]
}