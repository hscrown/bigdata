{
  "nbformat": 4,
  "nbformat_minor": 0,
  "metadata": {
    "colab": {
      "provenance": [],
      "authorship_tag": "ABX9TyMGv94rHinEcxpp7Z+MskJn",
      "include_colab_link": true
    },
    "kernelspec": {
      "name": "python3",
      "display_name": "Python 3"
    },
    "language_info": {
      "name": "python"
    }
  },
  "cells": [
    {
      "cell_type": "markdown",
      "metadata": {
        "id": "view-in-github",
        "colab_type": "text"
      },
      "source": [
        "<a href=\"https://colab.research.google.com/github/hscrown/bigdata/blob/main/%EB%AA%A8%EC%9D%98%EA%B3%A0%EC%82%AC_1%ED%9A%8C_3%EC%9C%A0%ED%98%95.ipynb\" target=\"_parent\"><img src=\"https://colab.research.google.com/assets/colab-badge.svg\" alt=\"Open In Colab\"/></a>"
      ]
    },
    {
      "cell_type": "markdown",
      "source": [
        "### 측정한 온도 Temps의 평균값이 평균온도인 77과 일치하는지 t-검정을 이용하여 확인하시오\n",
        "1. 표본평균 X를 소수점 둘째자리까지 반올림하여 구하시고\n",
        "2. 가설검정을 위한 검정통계량을 소수점 둘째자리까지 반올림하여 구하시오\n",
        "3. 통계량에 대한 p-value 값을 소수넘 넷째자리까지 반올림하여 구하고, 유의수준 0.05 내에서 결과를 논하시오.(채택과 기각 중 선택)"
      ],
      "metadata": {
        "id": "GTK4ALsbNJCa"
      }
    },
    {
      "cell_type": "code",
      "execution_count": 1,
      "metadata": {
        "id": "FjW6NKsGNGwu"
      },
      "outputs": [],
      "source": [
        "# 패키지 임포트 및 데이터로드\n",
        "import pandas as pd\n",
        "import scipy.stats as stats\n",
        "\n",
        "df = pd.read_csv(\"https://raw.githubusercontent.com/YoungjinBD/dataset/main/airquality.csv\")"
      ]
    },
    {
      "cell_type": "markdown",
      "source": [
        "1) 표본평균 X를 소수점 둘째자리까지 반올림하여 구하기"
      ],
      "metadata": {
        "id": "ps5SBa0NN2TJ"
      }
    },
    {
      "cell_type": "code",
      "source": [
        "X = df['Temp'].mean()\n",
        "print(round(X,2))"
      ],
      "metadata": {
        "colab": {
          "base_uri": "https://localhost:8080/"
        },
        "id": "YDLUWYmNNyq5",
        "outputId": "b302803a-5c1c-4cfc-a889-383dc6cf43a6"
      },
      "execution_count": 2,
      "outputs": [
        {
          "output_type": "stream",
          "name": "stdout",
          "text": [
            "77.88\n"
          ]
        }
      ]
    },
    {
      "cell_type": "markdown",
      "source": [
        "2) 가설검정을 위한 검정통계량을 소수점 둘째자리까지 반올림하여 구하기"
      ],
      "metadata": {
        "id": "qYbJ58M2OIKQ"
      }
    },
    {
      "cell_type": "code",
      "source": [
        "t_score, p_value = stats.ttest_1samp(df['Temp'], 77)  # stats.ttest_1samp(표본 데이터, 목표값)\n",
        "print(round(t_score,2))\n",
        "print(round(p_value, 4))"
      ],
      "metadata": {
        "colab": {
          "base_uri": "https://localhost:8080/"
        },
        "id": "KyqDIwtvOKi2",
        "outputId": "b7632fee-3442-49d9-9d9c-d779bcd165c4"
      },
      "execution_count": 3,
      "outputs": [
        {
          "output_type": "stream",
          "name": "stdout",
          "text": [
            "1.15\n",
            "0.2507\n"
          ]
        }
      ]
    },
    {
      "cell_type": "markdown",
      "source": [
        "3) 통계량에 대한 p-value 값을 소수넘 넷째자리까지 반올림하여 구하고, 유의수준 0.05 내에서 결과를 논하시오.(채택과 기각 중 선택)"
      ],
      "metadata": {
        "id": "bL7R0YsiOndF"
      }
    },
    {
      "cell_type": "code",
      "source": [
        "pv = round(p_value, 4)\n",
        "if pv < 0.05:\n",
        "    print(\"기각\")\n",
        "else:\n",
        "    print(\"채택\")"
      ],
      "metadata": {
        "colab": {
          "base_uri": "https://localhost:8080/"
        },
        "id": "BRHuHrFXOnBQ",
        "outputId": "1e320041-ecbb-4a21-d694-e6afe2c087c3"
      },
      "execution_count": 5,
      "outputs": [
        {
          "output_type": "stream",
          "name": "stdout",
          "text": [
            "채택\n"
          ]
        }
      ]
    }
  ]
}