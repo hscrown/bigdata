{
  "nbformat": 4,
  "nbformat_minor": 0,
  "metadata": {
    "colab": {
      "provenance": [],
      "authorship_tag": "ABX9TyP+Rg2PTClM1FCEt6HoQW2r",
      "include_colab_link": true
    },
    "kernelspec": {
      "name": "python3",
      "display_name": "Python 3"
    },
    "language_info": {
      "name": "python"
    }
  },
  "cells": [
    {
      "cell_type": "markdown",
      "metadata": {
        "id": "view-in-github",
        "colab_type": "text"
      },
      "source": [
        "<a href=\"https://colab.research.google.com/github/hscrown/bigdata/blob/main/%EB%AA%A8%EC%9D%98%EA%B3%A0%EC%82%AC_1%ED%9A%8C_1%EC%9C%A0%ED%98%95.ipynb\" target=\"_parent\"><img src=\"https://colab.research.google.com/assets/colab-badge.svg\" alt=\"Open In Colab\"/></a>"
      ]
    },
    {
      "cell_type": "markdown",
      "source": [
        "# 제1유형\n",
        "1. 주어진 데이터를 이용하여 이동시간(출동시간과 도착시간의 차이)이 평균적으로 가장 오개 걸린 구급대의 이동시간을 구하시오(분 단위로 환산 및 반올림 하여 정수로 출력)"
      ],
      "metadata": {
        "id": "xahdMTgIMh7J"
      }
    },
    {
      "cell_type": "code",
      "execution_count": 4,
      "metadata": {
        "colab": {
          "base_uri": "https://localhost:8080/"
        },
        "id": "X1WRxH6YMUPk",
        "outputId": "b9dd2cb0-6da3-42a7-9425-9e00971f9a22"
      },
      "outputs": [
        {
          "output_type": "stream",
          "name": "stdout",
          "text": [
            "     구급대                 출동시간                 도착시간\n",
            "0   구급대8  2020-07-10 06:11:45  2020-07-10 06:52:06\n",
            "1   구급대9  2020-07-13 06:12:21  2020-07-13 07:58:59\n",
            "2   구급대1  2020-07-06 06:12:29  2020-07-06 07:51:55\n",
            "3   구급대5  2020-07-21 06:11:41  2020-07-21 08:08:36\n",
            "4   구급대1  2020-07-29 06:12:00  2020-07-29 07:24:21\n",
            "..   ...                  ...                  ...\n",
            "95  구급대3  2020-07-06 06:12:27  2020-07-06 06:50:09\n",
            "96  구급대6  2020-07-17 06:12:02  2020-07-17 06:16:49\n",
            "97  구급대7  2020-07-12 06:12:22  2020-07-12 07:32:26\n",
            "98  구급대6  2020-07-08 06:12:05  2020-07-08 06:41:31\n",
            "99  구급대8  2020-07-10 06:12:16  2020-07-10 06:30:46\n",
            "\n",
            "[100 rows x 3 columns]\n"
          ]
        }
      ],
      "source": [
        "import pandas as pd\n",
        "\n",
        "# CSV 파일 불러오기\n",
        "df = pd.read_csv(\"https://raw.githubusercontent.com/YoungjinBD/dataset/main/data_6_1_1.csv\")\n",
        "print(df)"
      ]
    },
    {
      "cell_type": "code",
      "source": [
        "# 데이터 타입 확인\n",
        "df.info()"
      ],
      "metadata": {
        "colab": {
          "base_uri": "https://localhost:8080/"
        },
        "id": "10SmFTbANKr3",
        "outputId": "10fda9e9-8852-4fd2-de71-fddcb39f6047"
      },
      "execution_count": 5,
      "outputs": [
        {
          "output_type": "stream",
          "name": "stdout",
          "text": [
            "<class 'pandas.core.frame.DataFrame'>\n",
            "RangeIndex: 100 entries, 0 to 99\n",
            "Data columns (total 3 columns):\n",
            " #   Column  Non-Null Count  Dtype \n",
            "---  ------  --------------  ----- \n",
            " 0   구급대     100 non-null    object\n",
            " 1   출동시간    100 non-null    object\n",
            " 2   도착시간    100 non-null    object\n",
            "dtypes: object(3)\n",
            "memory usage: 2.5+ KB\n"
          ]
        }
      ]
    },
    {
      "cell_type": "code",
      "source": [
        "# 데이터 타입 변경\n",
        "df['출동시간'] = pd.to_datetime(df['출동시간'])\n",
        "df['도착시간'] = pd.to_datetime(df['도착시간'])"
      ],
      "metadata": {
        "id": "JYncRXd2N0d4"
      },
      "execution_count": 6,
      "outputs": []
    },
    {
      "cell_type": "code",
      "source": [
        "# 도착시간과 출동시간의 차이(분)\n",
        "df['이동시간'] = (df['도착시간'] - df['출동시간']).dt.total_seconds() / 60 # 파이썬에서는 분단위로 바로 구할 수 없다. 초단위로 값을 구하여 60으로 나눔"
      ],
      "metadata": {
        "id": "NfnP-x4ON4TX"
      },
      "execution_count": 7,
      "outputs": []
    },
    {
      "cell_type": "code",
      "source": [
        "# 구급대별 이동시간의 평균\n",
        "group_mean = df.groupby('구급대')['이동시간'].mean()"
      ],
      "metadata": {
        "id": "rRxB2TfcODaN"
      },
      "execution_count": 8,
      "outputs": []
    },
    {
      "cell_type": "code",
      "source": [
        "group_mean"
      ],
      "metadata": {
        "colab": {
          "base_uri": "https://localhost:8080/",
          "height": 430
        },
        "id": "usNN6h7BOVzT",
        "outputId": "e8bad458-99ba-421e-b6de-39ab04d30d25"
      },
      "execution_count": 9,
      "outputs": [
        {
          "output_type": "execute_result",
          "data": {
            "text/plain": [
              "구급대\n",
              "구급대1     54.952381\n",
              "구급대10    42.365000\n",
              "구급대2     60.228571\n",
              "구급대3     43.490741\n",
              "구급대4     49.136667\n",
              "구급대5     61.250000\n",
              "구급대6     41.764583\n",
              "구급대7     83.337037\n",
              "구급대8     42.693750\n",
              "구급대9     80.658889\n",
              "Name: 이동시간, dtype: float64"
            ],
            "text/html": [
              "<div>\n",
              "<style scoped>\n",
              "    .dataframe tbody tr th:only-of-type {\n",
              "        vertical-align: middle;\n",
              "    }\n",
              "\n",
              "    .dataframe tbody tr th {\n",
              "        vertical-align: top;\n",
              "    }\n",
              "\n",
              "    .dataframe thead th {\n",
              "        text-align: right;\n",
              "    }\n",
              "</style>\n",
              "<table border=\"1\" class=\"dataframe\">\n",
              "  <thead>\n",
              "    <tr style=\"text-align: right;\">\n",
              "      <th></th>\n",
              "      <th>이동시간</th>\n",
              "    </tr>\n",
              "    <tr>\n",
              "      <th>구급대</th>\n",
              "      <th></th>\n",
              "    </tr>\n",
              "  </thead>\n",
              "  <tbody>\n",
              "    <tr>\n",
              "      <th>구급대1</th>\n",
              "      <td>54.952381</td>\n",
              "    </tr>\n",
              "    <tr>\n",
              "      <th>구급대10</th>\n",
              "      <td>42.365000</td>\n",
              "    </tr>\n",
              "    <tr>\n",
              "      <th>구급대2</th>\n",
              "      <td>60.228571</td>\n",
              "    </tr>\n",
              "    <tr>\n",
              "      <th>구급대3</th>\n",
              "      <td>43.490741</td>\n",
              "    </tr>\n",
              "    <tr>\n",
              "      <th>구급대4</th>\n",
              "      <td>49.136667</td>\n",
              "    </tr>\n",
              "    <tr>\n",
              "      <th>구급대5</th>\n",
              "      <td>61.250000</td>\n",
              "    </tr>\n",
              "    <tr>\n",
              "      <th>구급대6</th>\n",
              "      <td>41.764583</td>\n",
              "    </tr>\n",
              "    <tr>\n",
              "      <th>구급대7</th>\n",
              "      <td>83.337037</td>\n",
              "    </tr>\n",
              "    <tr>\n",
              "      <th>구급대8</th>\n",
              "      <td>42.693750</td>\n",
              "    </tr>\n",
              "    <tr>\n",
              "      <th>구급대9</th>\n",
              "      <td>80.658889</td>\n",
              "    </tr>\n",
              "  </tbody>\n",
              "</table>\n",
              "</div><br><label><b>dtype:</b> float64</label>"
            ]
          },
          "metadata": {},
          "execution_count": 9
        }
      ]
    },
    {
      "cell_type": "code",
      "source": [
        "# 이동시간이 가장 큰 값\n",
        "result = round(group_mean.max())\n",
        "print(result)"
      ],
      "metadata": {
        "colab": {
          "base_uri": "https://localhost:8080/"
        },
        "id": "kTIvAqGAOYcZ",
        "outputId": "53479cdf-f318-4607-e0ec-e307a5c575e3"
      },
      "execution_count": 10,
      "outputs": [
        {
          "output_type": "stream",
          "name": "stdout",
          "text": [
            "83\n"
          ]
        }
      ]
    },
    {
      "cell_type": "markdown",
      "source": [
        "2. 주어진 데이터를 이용하여 교수 1인당 맡고 있는 학생수가 가장 많은 대학교를 찾고, 그 대학교의 전체 교수의 수를 구하시오(정수로 출력)"
      ],
      "metadata": {
        "id": "SJ5yROw_OpV0"
      }
    },
    {
      "cell_type": "code",
      "source": [
        "import pandas as pd\n",
        "\n",
        "# CSV 파일 불러오기\n",
        "df = pd.read_csv(\"https://raw.githubusercontent.com/YoungjinBD/dataset/main/data_6_1_2.csv\")\n",
        "print(df.head())"
      ],
      "metadata": {
        "colab": {
          "base_uri": "https://localhost:8080/"
        },
        "id": "Fib8XR6AOhf5",
        "outputId": "683515e4-8958-4892-d86f-63b4157b598e"
      },
      "execution_count": 12,
      "outputs": [
        {
          "output_type": "stream",
          "name": "stdout",
          "text": [
            "   대학교명  교수  경영학과  경제학과  컴퓨터공학과  산업공학과  국문학과  영문학과\n",
            "0  대학교1  20   121    72     158    131    77    59\n",
            "1  대학교2  31   178   139     145    137    63    90\n",
            "2  대학교3  23   136   139     154    111    91    50\n",
            "3  대학교4  32    72   136      67     51   133   159\n",
            "4  대학교5  22    61    73      86     82    55   124\n"
          ]
        }
      ]
    },
    {
      "cell_type": "code",
      "source": [
        "df.info()"
      ],
      "metadata": {
        "colab": {
          "base_uri": "https://localhost:8080/"
        },
        "id": "uPiZASmaOyAs",
        "outputId": "d3d48ccb-7236-42a2-f344-ae10d96a0144"
      },
      "execution_count": 13,
      "outputs": [
        {
          "output_type": "stream",
          "name": "stdout",
          "text": [
            "<class 'pandas.core.frame.DataFrame'>\n",
            "RangeIndex: 50 entries, 0 to 49\n",
            "Data columns (total 8 columns):\n",
            " #   Column  Non-Null Count  Dtype \n",
            "---  ------  --------------  ----- \n",
            " 0   대학교명    50 non-null     object\n",
            " 1   교수      50 non-null     int64 \n",
            " 2   경영학과    50 non-null     int64 \n",
            " 3   경제학과    50 non-null     int64 \n",
            " 4   컴퓨터공학과  50 non-null     int64 \n",
            " 5   산업공학과   50 non-null     int64 \n",
            " 6   국문학과    50 non-null     int64 \n",
            " 7   영문학과    50 non-null     int64 \n",
            "dtypes: int64(7), object(1)\n",
            "memory usage: 3.2+ KB\n"
          ]
        }
      ]
    },
    {
      "cell_type": "code",
      "source": [
        "# 전체 학생수 컬럼 구하기\n",
        "df.columns"
      ],
      "metadata": {
        "colab": {
          "base_uri": "https://localhost:8080/"
        },
        "id": "jKhQ7rDdO3ng",
        "outputId": "1135870d-0127-4b84-edea-aa8bebb6561a"
      },
      "execution_count": 14,
      "outputs": [
        {
          "output_type": "execute_result",
          "data": {
            "text/plain": [
              "Index(['대학교명', '교수', '경영학과', '경제학과', '컴퓨터공학과', '산업공학과', '국문학과', '영문학과'], dtype='object')"
            ]
          },
          "metadata": {},
          "execution_count": 14
        }
      ]
    },
    {
      "cell_type": "code",
      "source": [
        "df['학생수'] = df['경영학과']+df['경제학과']+df['컴퓨터공학과']+df['산업공학과']+df['국문학과']+df['영문학과']"
      ],
      "metadata": {
        "id": "3MzHkudUO-fP"
      },
      "execution_count": 15,
      "outputs": []
    },
    {
      "cell_type": "code",
      "source": [
        "# 교수 1인당 학생수\n",
        "df['교수당 학생수'] = df['학생수'] / df['교수']"
      ],
      "metadata": {
        "id": "6FNCTckYPNlF"
      },
      "execution_count": 16,
      "outputs": []
    },
    {
      "cell_type": "code",
      "source": [
        "# 교수가 제일 많은 대학교\n",
        "df[df['교수당 학생수'] == df['교수당 학생수'].max()]"
      ],
      "metadata": {
        "colab": {
          "base_uri": "https://localhost:8080/",
          "height": 81
        },
        "id": "jzM7fknhPW4Q",
        "outputId": "e7111c6e-5bef-46ae-b1c8-29fde4986145"
      },
      "execution_count": 19,
      "outputs": [
        {
          "output_type": "execute_result",
          "data": {
            "text/plain": [
              "     대학교명  교수  경영학과  경제학과  컴퓨터공학과  산업공학과  국문학과  영문학과  학생수    교수당 학생수\n",
              "45  대학교46  22   163   189     192    121    99   183  947  43.045455"
            ],
            "text/html": [
              "\n",
              "  <div id=\"df-25267054-5c5d-4788-8963-82b59465d885\" class=\"colab-df-container\">\n",
              "    <div>\n",
              "<style scoped>\n",
              "    .dataframe tbody tr th:only-of-type {\n",
              "        vertical-align: middle;\n",
              "    }\n",
              "\n",
              "    .dataframe tbody tr th {\n",
              "        vertical-align: top;\n",
              "    }\n",
              "\n",
              "    .dataframe thead th {\n",
              "        text-align: right;\n",
              "    }\n",
              "</style>\n",
              "<table border=\"1\" class=\"dataframe\">\n",
              "  <thead>\n",
              "    <tr style=\"text-align: right;\">\n",
              "      <th></th>\n",
              "      <th>대학교명</th>\n",
              "      <th>교수</th>\n",
              "      <th>경영학과</th>\n",
              "      <th>경제학과</th>\n",
              "      <th>컴퓨터공학과</th>\n",
              "      <th>산업공학과</th>\n",
              "      <th>국문학과</th>\n",
              "      <th>영문학과</th>\n",
              "      <th>학생수</th>\n",
              "      <th>교수당 학생수</th>\n",
              "    </tr>\n",
              "  </thead>\n",
              "  <tbody>\n",
              "    <tr>\n",
              "      <th>45</th>\n",
              "      <td>대학교46</td>\n",
              "      <td>22</td>\n",
              "      <td>163</td>\n",
              "      <td>189</td>\n",
              "      <td>192</td>\n",
              "      <td>121</td>\n",
              "      <td>99</td>\n",
              "      <td>183</td>\n",
              "      <td>947</td>\n",
              "      <td>43.045455</td>\n",
              "    </tr>\n",
              "  </tbody>\n",
              "</table>\n",
              "</div>\n",
              "    <div class=\"colab-df-buttons\">\n",
              "\n",
              "  <div class=\"colab-df-container\">\n",
              "    <button class=\"colab-df-convert\" onclick=\"convertToInteractive('df-25267054-5c5d-4788-8963-82b59465d885')\"\n",
              "            title=\"Convert this dataframe to an interactive table.\"\n",
              "            style=\"display:none;\">\n",
              "\n",
              "  <svg xmlns=\"http://www.w3.org/2000/svg\" height=\"24px\" viewBox=\"0 -960 960 960\">\n",
              "    <path d=\"M120-120v-720h720v720H120Zm60-500h600v-160H180v160Zm220 220h160v-160H400v160Zm0 220h160v-160H400v160ZM180-400h160v-160H180v160Zm440 0h160v-160H620v160ZM180-180h160v-160H180v160Zm440 0h160v-160H620v160Z\"/>\n",
              "  </svg>\n",
              "    </button>\n",
              "\n",
              "  <style>\n",
              "    .colab-df-container {\n",
              "      display:flex;\n",
              "      gap: 12px;\n",
              "    }\n",
              "\n",
              "    .colab-df-convert {\n",
              "      background-color: #E8F0FE;\n",
              "      border: none;\n",
              "      border-radius: 50%;\n",
              "      cursor: pointer;\n",
              "      display: none;\n",
              "      fill: #1967D2;\n",
              "      height: 32px;\n",
              "      padding: 0 0 0 0;\n",
              "      width: 32px;\n",
              "    }\n",
              "\n",
              "    .colab-df-convert:hover {\n",
              "      background-color: #E2EBFA;\n",
              "      box-shadow: 0px 1px 2px rgba(60, 64, 67, 0.3), 0px 1px 3px 1px rgba(60, 64, 67, 0.15);\n",
              "      fill: #174EA6;\n",
              "    }\n",
              "\n",
              "    .colab-df-buttons div {\n",
              "      margin-bottom: 4px;\n",
              "    }\n",
              "\n",
              "    [theme=dark] .colab-df-convert {\n",
              "      background-color: #3B4455;\n",
              "      fill: #D2E3FC;\n",
              "    }\n",
              "\n",
              "    [theme=dark] .colab-df-convert:hover {\n",
              "      background-color: #434B5C;\n",
              "      box-shadow: 0px 1px 3px 1px rgba(0, 0, 0, 0.15);\n",
              "      filter: drop-shadow(0px 1px 2px rgba(0, 0, 0, 0.3));\n",
              "      fill: #FFFFFF;\n",
              "    }\n",
              "  </style>\n",
              "\n",
              "    <script>\n",
              "      const buttonEl =\n",
              "        document.querySelector('#df-25267054-5c5d-4788-8963-82b59465d885 button.colab-df-convert');\n",
              "      buttonEl.style.display =\n",
              "        google.colab.kernel.accessAllowed ? 'block' : 'none';\n",
              "\n",
              "      async function convertToInteractive(key) {\n",
              "        const element = document.querySelector('#df-25267054-5c5d-4788-8963-82b59465d885');\n",
              "        const dataTable =\n",
              "          await google.colab.kernel.invokeFunction('convertToInteractive',\n",
              "                                                    [key], {});\n",
              "        if (!dataTable) return;\n",
              "\n",
              "        const docLinkHtml = 'Like what you see? Visit the ' +\n",
              "          '<a target=\"_blank\" href=https://colab.research.google.com/notebooks/data_table.ipynb>data table notebook</a>'\n",
              "          + ' to learn more about interactive tables.';\n",
              "        element.innerHTML = '';\n",
              "        dataTable['output_type'] = 'display_data';\n",
              "        await google.colab.output.renderOutput(dataTable, element);\n",
              "        const docLink = document.createElement('div');\n",
              "        docLink.innerHTML = docLinkHtml;\n",
              "        element.appendChild(docLink);\n",
              "      }\n",
              "    </script>\n",
              "  </div>\n",
              "\n",
              "\n",
              "    </div>\n",
              "  </div>\n"
            ],
            "application/vnd.google.colaboratory.intrinsic+json": {
              "type": "dataframe",
              "summary": "{\n  \"name\": \"df[df['\\uad50\\uc218\\ub2f9 \\ud559\\uc0dd\\uc218'] == df['\\uad50\\uc218\\ub2f9 \\ud559\\uc0dd\\uc218']\",\n  \"rows\": 1,\n  \"fields\": [\n    {\n      \"column\": \"\\ub300\\ud559\\uad50\\uba85\",\n      \"properties\": {\n        \"dtype\": \"string\",\n        \"num_unique_values\": 1,\n        \"samples\": [\n          \"\\ub300\\ud559\\uad5046\"\n        ],\n        \"semantic_type\": \"\",\n        \"description\": \"\"\n      }\n    },\n    {\n      \"column\": \"\\uad50\\uc218\",\n      \"properties\": {\n        \"dtype\": \"number\",\n        \"std\": null,\n        \"min\": 22,\n        \"max\": 22,\n        \"num_unique_values\": 1,\n        \"samples\": [\n          22\n        ],\n        \"semantic_type\": \"\",\n        \"description\": \"\"\n      }\n    },\n    {\n      \"column\": \"\\uacbd\\uc601\\ud559\\uacfc\",\n      \"properties\": {\n        \"dtype\": \"number\",\n        \"std\": null,\n        \"min\": 163,\n        \"max\": 163,\n        \"num_unique_values\": 1,\n        \"samples\": [\n          163\n        ],\n        \"semantic_type\": \"\",\n        \"description\": \"\"\n      }\n    },\n    {\n      \"column\": \"\\uacbd\\uc81c\\ud559\\uacfc\",\n      \"properties\": {\n        \"dtype\": \"number\",\n        \"std\": null,\n        \"min\": 189,\n        \"max\": 189,\n        \"num_unique_values\": 1,\n        \"samples\": [\n          189\n        ],\n        \"semantic_type\": \"\",\n        \"description\": \"\"\n      }\n    },\n    {\n      \"column\": \"\\ucef4\\ud4e8\\ud130\\uacf5\\ud559\\uacfc\",\n      \"properties\": {\n        \"dtype\": \"number\",\n        \"std\": null,\n        \"min\": 192,\n        \"max\": 192,\n        \"num_unique_values\": 1,\n        \"samples\": [\n          192\n        ],\n        \"semantic_type\": \"\",\n        \"description\": \"\"\n      }\n    },\n    {\n      \"column\": \"\\uc0b0\\uc5c5\\uacf5\\ud559\\uacfc\",\n      \"properties\": {\n        \"dtype\": \"number\",\n        \"std\": null,\n        \"min\": 121,\n        \"max\": 121,\n        \"num_unique_values\": 1,\n        \"samples\": [\n          121\n        ],\n        \"semantic_type\": \"\",\n        \"description\": \"\"\n      }\n    },\n    {\n      \"column\": \"\\uad6d\\ubb38\\ud559\\uacfc\",\n      \"properties\": {\n        \"dtype\": \"number\",\n        \"std\": null,\n        \"min\": 99,\n        \"max\": 99,\n        \"num_unique_values\": 1,\n        \"samples\": [\n          99\n        ],\n        \"semantic_type\": \"\",\n        \"description\": \"\"\n      }\n    },\n    {\n      \"column\": \"\\uc601\\ubb38\\ud559\\uacfc\",\n      \"properties\": {\n        \"dtype\": \"number\",\n        \"std\": null,\n        \"min\": 183,\n        \"max\": 183,\n        \"num_unique_values\": 1,\n        \"samples\": [\n          183\n        ],\n        \"semantic_type\": \"\",\n        \"description\": \"\"\n      }\n    },\n    {\n      \"column\": \"\\ud559\\uc0dd\\uc218\",\n      \"properties\": {\n        \"dtype\": \"number\",\n        \"std\": null,\n        \"min\": 947,\n        \"max\": 947,\n        \"num_unique_values\": 1,\n        \"samples\": [\n          947\n        ],\n        \"semantic_type\": \"\",\n        \"description\": \"\"\n      }\n    },\n    {\n      \"column\": \"\\uad50\\uc218\\ub2f9 \\ud559\\uc0dd\\uc218\",\n      \"properties\": {\n        \"dtype\": \"number\",\n        \"std\": null,\n        \"min\": 43.04545454545455,\n        \"max\": 43.04545454545455,\n        \"num_unique_values\": 1,\n        \"samples\": [\n          43.04545454545455\n        ],\n        \"semantic_type\": \"\",\n        \"description\": \"\"\n      }\n    }\n  ]\n}"
            }
          },
          "metadata": {},
          "execution_count": 19
        }
      ]
    },
    {
      "cell_type": "code",
      "source": [
        "# 그 학교의 교수 수\n",
        "result=df[df['교수당 학생수'] == df['교수당 학생수'].max()]['교수'].values[0]\n",
        "print(result)"
      ],
      "metadata": {
        "colab": {
          "base_uri": "https://localhost:8080/"
        },
        "id": "8mNWaK8fPbuC",
        "outputId": "d1a37dd8-0b49-47ac-a9fb-6bf4f82d348d"
      },
      "execution_count": 20,
      "outputs": [
        {
          "output_type": "stream",
          "name": "stdout",
          "text": [
            "22\n"
          ]
        }
      ]
    },
    {
      "cell_type": "markdown",
      "source": [
        "3. 주어진 데이터를 이용하여 연도별 총 범죄 건수의 월평균 값을 구하고, 그 중 가장 큰 값을 출력하시오(반올림하여 정수로 출력)"
      ],
      "metadata": {
        "id": "R-LnN3iNP_dA"
      }
    },
    {
      "cell_type": "code",
      "source": [
        "import pandas as pd\n",
        "\n",
        "# CSV 파일 불러오기\n",
        "df = pd.read_csv(\"https://raw.githubusercontent.com/YoungjinBD/dataset/main/data_6_1_3.csv\")\n",
        "print(df.head())"
      ],
      "metadata": {
        "colab": {
          "base_uri": "https://localhost:8080/"
        },
        "id": "aa_pAvwMP2mN",
        "outputId": "d7972baa-ba32-434b-dd22-0394eec88834"
      },
      "execution_count": 21,
      "outputs": [
        {
          "output_type": "stream",
          "name": "stdout",
          "text": [
            "          날짜  폭력범죄  지능범죄  교통범죄  절도범죄  경제범죄  정치범죄 주요검찰청명\n",
            "0  2018년 01월    28   127    90    73    33   202   검찰청1\n",
            "1  2018년 02월    16   137    72    80    30   180   검찰청5\n",
            "2  2018년 03월    29   140    70    79    34   211   검찰청5\n",
            "3  2018년 04월    10   140    90    65    31   184   검찰청1\n",
            "4  2018년 05월    11   138    70    75    35   190   검찰청1\n"
          ]
        }
      ]
    },
    {
      "cell_type": "code",
      "source": [
        "df.info()"
      ],
      "metadata": {
        "colab": {
          "base_uri": "https://localhost:8080/"
        },
        "id": "vzv-5AqqQKQf",
        "outputId": "08f05b98-77bb-407a-e266-bcdd4ec8aa86"
      },
      "execution_count": 22,
      "outputs": [
        {
          "output_type": "stream",
          "name": "stdout",
          "text": [
            "<class 'pandas.core.frame.DataFrame'>\n",
            "RangeIndex: 60 entries, 0 to 59\n",
            "Data columns (total 8 columns):\n",
            " #   Column  Non-Null Count  Dtype \n",
            "---  ------  --------------  ----- \n",
            " 0   날짜      60 non-null     object\n",
            " 1   폭력범죄    60 non-null     int64 \n",
            " 2   지능범죄    60 non-null     int64 \n",
            " 3   교통범죄    60 non-null     int64 \n",
            " 4   절도범죄    60 non-null     int64 \n",
            " 5   경제범죄    60 non-null     int64 \n",
            " 6   정치범죄    60 non-null     int64 \n",
            " 7   주요검찰청명  60 non-null     object\n",
            "dtypes: int64(6), object(2)\n",
            "memory usage: 3.9+ KB\n"
          ]
        }
      ]
    },
    {
      "cell_type": "code",
      "source": [
        "# 월별 총 범죄 건수\n",
        "df['총범죄건수'] = df.iloc[:,1:-1].sum(axis=1)\n",
        "print(df.head())"
      ],
      "metadata": {
        "colab": {
          "base_uri": "https://localhost:8080/"
        },
        "id": "kv6uSQ4CQMXG",
        "outputId": "7b2d8cac-eb81-491e-dd6d-d69f6006373a"
      },
      "execution_count": 24,
      "outputs": [
        {
          "output_type": "stream",
          "name": "stdout",
          "text": [
            "          날짜  폭력범죄  지능범죄  교통범죄  절도범죄  경제범죄  정치범죄 주요검찰청명  총범죄건수\n",
            "0  2018년 01월    28   127    90    73    33   202   검찰청1    553\n",
            "1  2018년 02월    16   137    72    80    30   180   검찰청5    515\n",
            "2  2018년 03월    29   140    70    79    34   211   검찰청5    563\n",
            "3  2018년 04월    10   140    90    65    31   184   검찰청1    520\n",
            "4  2018년 05월    11   138    70    75    35   190   검찰청1    519\n"
          ]
        }
      ]
    },
    {
      "cell_type": "code",
      "source": [
        "# 연도 컬럼 생성\n",
        "df['연도']=df['날짜'].str[:4]\n",
        "print(df.head())"
      ],
      "metadata": {
        "colab": {
          "base_uri": "https://localhost:8080/"
        },
        "id": "8e0OFKqxQhj-",
        "outputId": "cf636f5b-c2eb-4447-a10f-eeb7cd38bf34"
      },
      "execution_count": 25,
      "outputs": [
        {
          "output_type": "stream",
          "name": "stdout",
          "text": [
            "          날짜  폭력범죄  지능범죄  교통범죄  절도범죄  경제범죄  정치범죄 주요검찰청명  총범죄건수    연도\n",
            "0  2018년 01월    28   127    90    73    33   202   검찰청1    553  2018\n",
            "1  2018년 02월    16   137    72    80    30   180   검찰청5    515  2018\n",
            "2  2018년 03월    29   140    70    79    34   211   검찰청5    563  2018\n",
            "3  2018년 04월    10   140    90    65    31   184   검찰청1    520  2018\n",
            "4  2018년 05월    11   138    70    75    35   190   검찰청1    519  2018\n"
          ]
        }
      ]
    },
    {
      "cell_type": "code",
      "source": [
        "# 연도 별 총 범죄 건수의 평균\n",
        "group_mean = df.groupby('연도')['총범죄건수'].mean()"
      ],
      "metadata": {
        "id": "tlr73wmxQ6Xl"
      },
      "execution_count": 26,
      "outputs": []
    },
    {
      "cell_type": "code",
      "source": [
        "group_mean"
      ],
      "metadata": {
        "colab": {
          "base_uri": "https://localhost:8080/",
          "height": 273
        },
        "id": "RiH2dLfPRJgz",
        "outputId": "2b3ea40d-ecbf-4fb2-c5ee-9e6a56a82474"
      },
      "execution_count": 27,
      "outputs": [
        {
          "output_type": "execute_result",
          "data": {
            "text/plain": [
              "연도\n",
              "2018    527.333333\n",
              "2019    520.500000\n",
              "2020    514.916667\n",
              "2021    528.333333\n",
              "2022    524.416667\n",
              "Name: 총범죄건수, dtype: float64"
            ],
            "text/html": [
              "<div>\n",
              "<style scoped>\n",
              "    .dataframe tbody tr th:only-of-type {\n",
              "        vertical-align: middle;\n",
              "    }\n",
              "\n",
              "    .dataframe tbody tr th {\n",
              "        vertical-align: top;\n",
              "    }\n",
              "\n",
              "    .dataframe thead th {\n",
              "        text-align: right;\n",
              "    }\n",
              "</style>\n",
              "<table border=\"1\" class=\"dataframe\">\n",
              "  <thead>\n",
              "    <tr style=\"text-align: right;\">\n",
              "      <th></th>\n",
              "      <th>총범죄건수</th>\n",
              "    </tr>\n",
              "    <tr>\n",
              "      <th>연도</th>\n",
              "      <th></th>\n",
              "    </tr>\n",
              "  </thead>\n",
              "  <tbody>\n",
              "    <tr>\n",
              "      <th>2018</th>\n",
              "      <td>527.333333</td>\n",
              "    </tr>\n",
              "    <tr>\n",
              "      <th>2019</th>\n",
              "      <td>520.500000</td>\n",
              "    </tr>\n",
              "    <tr>\n",
              "      <th>2020</th>\n",
              "      <td>514.916667</td>\n",
              "    </tr>\n",
              "    <tr>\n",
              "      <th>2021</th>\n",
              "      <td>528.333333</td>\n",
              "    </tr>\n",
              "    <tr>\n",
              "      <th>2022</th>\n",
              "      <td>524.416667</td>\n",
              "    </tr>\n",
              "  </tbody>\n",
              "</table>\n",
              "</div><br><label><b>dtype:</b> float64</label>"
            ]
          },
          "metadata": {},
          "execution_count": 27
        }
      ]
    },
    {
      "cell_type": "code",
      "source": [
        "# 가장 큰 값\n",
        "result = round(group_mean.max())\n",
        "result"
      ],
      "metadata": {
        "colab": {
          "base_uri": "https://localhost:8080/"
        },
        "id": "jCX2eaSfRK4v",
        "outputId": "97d8287c-92f9-45d3-d8bb-afa3bcdf8dc5"
      },
      "execution_count": 28,
      "outputs": [
        {
          "output_type": "execute_result",
          "data": {
            "text/plain": [
              "528"
            ]
          },
          "metadata": {},
          "execution_count": 28
        }
      ]
    },
    {
      "cell_type": "code",
      "source": [],
      "metadata": {
        "id": "FJEioWbRRQzr"
      },
      "execution_count": null,
      "outputs": []
    }
  ]
}